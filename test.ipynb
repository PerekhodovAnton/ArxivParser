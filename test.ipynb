{
 "cells": [
  {
   "cell_type": "code",
   "execution_count": 1,
   "metadata": {},
   "outputs": [
    {
     "name": "stderr",
     "output_type": "stream",
     "text": [
      "/Users/anper/Library/Python/3.9/lib/python/site-packages/urllib3/__init__.py:34: NotOpenSSLWarning: urllib3 v2 only supports OpenSSL 1.1.1+, currently the 'ssl' module is compiled with 'LibreSSL 2.8.3'. See: https://github.com/urllib3/urllib3/issues/3020\n",
      "  warnings.warn(\n"
     ]
    }
   ],
   "source": [
    "from arxivz import Arxiv"
   ]
  },
  {
   "cell_type": "code",
   "execution_count": null,
   "metadata": {},
   "outputs": [],
   "source": [
    "# examples\n",
    "\n",
    "# здесь указываем путь до эксельки, где перечислены столбиком все ключи\n",
    "# keys = pd.read_excel(r'\\keys.xlsx', header=None)\n",
    "# keys = [key for key in keys[0]]\n",
    "keys = ['NLP', 'LLM Risks', 'Backdoor']\n",
    "\n",
    "xx = Arxiv().make_parse('2023-11-01', '2024-01-22', keys)\n",
    "print(xx)\n",
    "# Arxiv().make_parse_2periods_and_draw_graph('2023-10-01', '2023-11-30', '2023-12-01', '2024-01-22', keys)\n",
    "# Arxiv().save_pdfs_and_get_pages('2023-12-01', '2024-01-22', r'/Users/anper/Documents/arxiv_parser/Arxiv_parser/pdfs', keys)\n",
    "# print(Arxiv().count_pages(r'F:\\Работа\\pdfs'))"
   ]
  }
 ],
 "metadata": {
  "kernelspec": {
   "display_name": "Python 3",
   "language": "python",
   "name": "python3"
  },
  "language_info": {
   "codemirror_mode": {
    "name": "ipython",
    "version": 3
   },
   "file_extension": ".py",
   "mimetype": "text/x-python",
   "name": "python",
   "nbconvert_exporter": "python",
   "pygments_lexer": "ipython3",
   "version": "3.9.6"
  }
 },
 "nbformat": 4,
 "nbformat_minor": 2
}
